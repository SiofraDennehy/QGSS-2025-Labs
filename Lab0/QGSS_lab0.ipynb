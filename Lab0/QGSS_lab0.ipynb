{
 "cells": [
  {
   "cell_type": "code",
   "execution_count": null,
   "id": "6ec20b71-1729-49c1-9c96-4ce55ca3e159",
   "metadata": {},
   "outputs": [],
   "source": [
    "\n",
    "from platform import python_version\n",
    "\n",
    "print(python_version())"
   ]
  },
  {
   "cell_type": "code",
   "execution_count": null,
   "id": "8e8c2f2e-6e99-485a-9c45-4caae065bf19",
   "metadata": {},
   "outputs": [],
   "source": [
    "%pip install \"qc-grader[qiskit,jupyter] @ git+https://github.com/qiskit-community/Quantum-Challenge-Grader.git\"\n"
   ]
  },
  {
   "cell_type": "code",
   "execution_count": null,
   "id": "ed77935b-4679-4f94-8104-1c0094162149",
   "metadata": {},
   "outputs": [],
   "source": [
    "\n",
    "import qiskit\n",
    "import qc_grader\n",
    "\n",
    "print(f\"Qiskit version: {qiskit.__version__}\")\n",
    "print(f\"Grader version: {qc_grader.__version__}\")"
   ]
  },
  {
   "cell_type": "code",
   "execution_count": null,
   "id": "cd2bd635-b617-4caf-a6b9-748202e17bc3",
   "metadata": {},
   "outputs": [],
   "source": [
    "\n",
    "# Save your API key to track your progress and have access to the quantum computers\n",
    "\n",
    "your_api_key = \"\"\n",
    "your_crn = \"\"\n",
    "\n",
    "from qiskit_ibm_runtime import QiskitRuntimeService\n",
    "\n",
    "QiskitRuntimeService.save_account(\n",
    "    channel=\"\",\n",
    "    token=your_api_key,\n",
    "    instance=your_crn,\n",
    "    name=\"\",\n",
    ")"
   ]
  },
  {
   "cell_type": "code",
   "execution_count": 4,
   "id": "55d99737-3b87-4896-8232-c8c1bd744e43",
   "metadata": {},
   "outputs": [
    {
     "name": "stdout",
     "output_type": "stream",
     "text": [
      "Qiskit version: 2.1.0\n",
      "Grader version: 0.22.9\n"
     ]
    }
   ],
   "source": [
    "\n",
    "import qiskit\n",
    "import qc_grader\n",
    "\n",
    "print(f\"Qiskit version: {qiskit.__version__}\")\n",
    "print(f\"Grader version: {qc_grader.__version__}\")"
   ]
  },
  {
   "cell_type": "code",
   "execution_count": 5,
   "id": "15d489ed-b95d-4b1b-8f08-eac8ab660725",
   "metadata": {},
   "outputs": [],
   "source": [
    "import matplotlib.pyplot as plt\n",
    "\n",
    "from qiskit import QuantumCircuit, generate_preset_pass_manager\n",
    "from qiskit.visualization import plot_histogram\n",
    "from qiskit.quantum_info import SparsePauliOp\n",
    "\n",
    "from qiskit_ibm_runtime import QiskitRuntimeService, SamplerV2 as Sampler, EstimatorV2 as Estimator\n",
    "\n",
    "from qiskit_aer import AerSimulator\n",
    "\n",
    "from qc_grader.challenges.qgss_2025 import grade_lab0_ex1, grade_lab0_ex2\n"
   ]
  },
  {
   "cell_type": "code",
   "execution_count": 6,
   "id": "54bb86e4-88e3-4e73-9379-2d7554a2edc1",
   "metadata": {},
   "outputs": [
    {
     "data": {
      "image/png": "[encoded data removed]",
      "text/plain": [
       "<Figure size 287.294x200.667 with 1 Axes>"
      ]
     },
     "execution_count": 6,
     "metadata": {},
     "output_type": "execute_result"
    }
   ],
   "source": [
    "\n",
    "# Create a new circuit with a single qubit\n",
    "qc = QuantumCircuit(2)\n",
    "# Add a H gate to qubit 0\n",
    "qc.h(0)\n",
    "# Add a CNOT gate to qubit 1\n",
    "qc.cx(0, 1)\n",
    "# Return a drawing of the circuit using MatPlotLib (\"mpl\").\n",
    "qc.draw(\"mpl\")"
   ]
  },
  {
   "cell_type": "code",
   "execution_count": null,
   "id": "76236eab-997f-4b9b-946f-f12c979ecc04",
   "metadata": {},
   "outputs": [
    {
     "data": {
      "image/png": "[encoded data removed]",
      "text/plain": [
       "<Figure size 371.107x284.278 with 1 Axes>"
      ]
     },
     "execution_count": 7,
     "metadata": {},
     "output_type": "execute_result"
    }
   ],
   "source": [
    "\n",
    "# Create a new circuit with three qubits\n",
    "qc = QuantumCircuit(3)\n",
    "\n",
    "# Add a H gate to qubit 0\n",
    "qc.h(0)\n",
    "# Add a CNOT gate to qubits 0 and 1\n",
    "qc.cx(0, 1)\n",
    "# Add a CNOT gate to qubits 1 and 2\n",
    "qc.cx(1, 2)\n",
    "\n",
    "# Return a drawing of the circuit using MatPlotLib (\"mpl\").\n",
    "qc.draw(\"mpl\")"
   ]
  },
  {
   "cell_type": "code",
   "execution_count": 8,
   "id": "22bbe24a-2eb4-443a-bfad-eef18a2e40d6",
   "metadata": {},
   "outputs": [
    {
     "name": "stdout",
     "output_type": "stream",
     "text": [
      "Submitting your answer. Please wait...\n",
      "Congratulations 🎉! Your answer is correct and has been submitted.\n"
     ]
    }
   ],
   "source": [
    "grade_lab0_ex1(qc)"
   ]
  },
  {
   "cell_type": "code",
   "execution_count": null,
   "id": "2281aabc-b56a-4a81-8fea-aef9cf8b7df5",
   "metadata": {},
   "outputs": [
    {
     "data": {
      "image/png": "[encoded data removed]",
      "text/plain": [
       "<Figure size 371.107x284.278 with 1 Axes>"
      ]
     },
     "execution_count": 9,
     "metadata": {},
     "output_type": "execute_result"
    }
   ],
   "source": [
    "# Write the coupling map of connections between qubits 0 and 1 and 0 and 2 as a list of pairs: [[0,1],...]\n",
    "coupling_map = [[0, 1],[0, 2]]\n",
    "\n",
    "# Transpile the quantum circuit `qc` using the `transpile` function and the coupling map\n",
    "from qiskit import transpile\n",
    "qc_transpiled =transpile(qc)\n",
    "\n",
    "qc_transpiled.draw(\"mpl\")"
   ]
  },
  {
   "cell_type": "code",
   "execution_count": 10,
   "id": "743b3f6c-7cb5-4405-8550-3bce33651792",
   "metadata": {},
   "outputs": [
    {
     "name": "stdout",
     "output_type": "stream",
     "text": [
      "Submitting your answer. Please wait...\n",
      "Congratulations 🎉! Your answer is correct and has been submitted.\n"
     ]
    }
   ],
   "source": [
    "# Submit your answer using following code\n",
    "grade_lab0_ex2(qc_transpiled)"
   ]
  },
  {
   "cell_type": "code",
   "execution_count": 11,
   "id": "5e2b03b3-dc77-4430-a6f2-7bad983f0f52",
   "metadata": {},
   "outputs": [],
   "source": [
    "# Add measurement operations\n",
    "qc.measure_all()\n",
    "\n",
    "# Set up the backend\n",
    "backend = AerSimulator()\n",
    "\n",
    "# Set up the sampler\n",
    "sampler = Sampler(mode=backend)\n",
    "\n",
    "# Submit the circuit to Sampler\n",
    "pm = generate_preset_pass_manager(backend=backend, optimization_level=1)\n",
    "job = sampler.run(pm.run([qc]))\n",
    "\n",
    "# Get the results\n",
    "results_sampler = job.result()"
   ]
  },
  {
   "cell_type": "code",
   "execution_count": 12,
   "id": "0a6fc647-ad7c-4ee2-95af-ae72fc217871",
   "metadata": {},
   "outputs": [],
   "source": [
    "# Set up the Estimator\n",
    "estimator = Estimator(mode=backend)\n",
    "\n",
    "# Define some observables\n",
    "ZZZ = SparsePauliOp(\"ZZZ\")\n",
    "ZZX = SparsePauliOp(\"ZZX\")\n",
    "ZII = SparsePauliOp(\"ZII\")\n",
    "XXI = SparsePauliOp(\"XXI\")\n",
    "ZZI = SparsePauliOp(\"ZZI\")\n",
    "III = SparsePauliOp(\"III\")\n",
    "observables = [ZZZ, ZZX, ZII, XXI, ZZI, III]\n",
    "\n",
    "# Submit the circuit to Estimator\n",
    "pub = (qc, observables)\n",
    "job = estimator.run(pubs=[pub])\n",
    "\n",
    "# Get the results\n",
    "results_estimator = job.result()"
   ]
  },
  {
   "cell_type": "code",
   "execution_count": 13,
   "id": "cd07f4a7-6024-489b-93bf-6a13b3f398c2",
   "metadata": {
    "scrolled": true
   },
   "outputs": [
    {
     "name": "stdout",
     "output_type": "stream",
     "text": [
      "  Outcomes : {'111': 519, '000': 505}\n"
     ]
    },
    {
     "data": {
      "image/png": "[encoded data removed]",
      "text/plain": [
       "<Figure size 640x480 with 1 Axes>"
      ]
     },
     "metadata": {},
     "output_type": "display_data"
    }
   ],
   "source": [
    "counts_list = results_sampler[0].data.meas.get_counts()\n",
    "print(f\"  Outcomes : {counts_list}\")\n",
    "display(plot_histogram(counts_list, title=\"GHZ state\"))"
   ]
  },
  {
   "cell_type": "code",
   "execution_count": 14,
   "id": "fcdac177-5e0a-43c2-b999-274c594a568f",
   "metadata": {},
   "outputs": [
    {
     "name": "stdout",
     "output_type": "stream",
     "text": [
      "Expectation values: [('ZZZ', np.float64(0.025390625)), ('ZZX', np.float64(0.0107421875)), ('ZII', np.float64(0.00439453125)), ('XXI', np.float64(-0.017578125)), ('ZZI', np.float64(1.0)), ('III', np.float64(1.0))]\n"
     ]
    },
    {
     "data": {
      "image/png": "[encoded data removed]",
      "text/plain": [
       "<Figure size 640x480 with 1 Axes>"
      ]
     },
     "metadata": {},
     "output_type": "display_data"
    }
   ],
   "source": [
    "exp_values = results_estimator[0].data.evs\n",
    "observables_list = [\"ZZZ\", \"ZZX\", \"ZII\", \"XXI\", \"ZZI\", \"III\"]\n",
    "print(f\"Expectation values: {list(zip(observables_list, exp_values))}\")\n",
    "\n",
    "# Set up our plot\n",
    "container = plt.bar(observables_list, exp_values, width=0.8)\n",
    "# Label each axis\n",
    "plt.xlabel(\"Observables\")\n",
    "plt.ylabel(\"Values\")\n",
    "plt.show()"
   ]
  },
  {
   "cell_type": "code",
   "execution_count": null,
   "id": "1715d40e-4468-4d4e-97b2-158afc7fb5ee",
   "metadata": {},
   "outputs": [],
   "source": [
    "from qc_grader.grader.grade import check_lab_completion_status\n",
    "check_lab_completion_status(\"qgss_2025\")"
   ]
  },
  {
   "cell_type": "code",
   "execution_count": 16,
   "id": "b338b57a-abe1-4858-91dc-3ca5338ed34d",
   "metadata": {},
   "outputs": [
    {
     "name": "stdout",
     "output_type": "stream",
     "text": [
      "We are using the ibm_sherbrooke quantum computer\n"
     ]
    }
   ],
   "source": [
    "# Define the service. This allows you to access IBM QPUs.\n",
    "service = QiskitRuntimeService(name=\"qgss-2025\")\n",
    "\n",
    "# Get a backend\n",
    "backend = service.least_busy(operational=True, simulator=False)\n",
    "print(f\"We are using the {backend.name} quantum computer\")"
   ]
  },
  {
   "cell_type": "code",
   "execution_count": null,
   "id": "2399e4e2-dbcc-4f2d-a1a2-a487244f9a4e",
   "metadata": {},
   "outputs": [],
   "source": [
    "# Step 1. Map\n",
    "# You should have created a GHZ circuit above and assigned with variable `qc`\n",
    "\n",
    "# Create a new circuit with three qubits\n",
    "qc = QuantumCircuit(3)\n",
    "\n",
    "# Add a H gate to qubit 0\n",
    "qc.h(0)\n",
    "# Add a CNOT gate to qubits 0 and 1\n",
    "qc.cx(0, 1)\n",
    "# Add a CNOT gate to qubits 1 and 2\n",
    "qc.cx(1, 2)\n",
    "# Step 2. Optimize\n",
    "pm = generate_preset_pass_manager(backend=backend, optimization_level=1)\n",
    "qc_transpiled = transpile(qc)"
   ]
  },
  {
   "cell_type": "code",
   "execution_count": 18,
   "id": "a440e21d-48e2-4440-be76-bbf63d4d6ab9",
   "metadata": {},
   "outputs": [],
   "source": [
    "# Step 3. Execute\n",
    "sampler = Sampler(mode=backend)\n",
    "job = sampler.run(pm.run([qc])) "
   ]
  },
  {
   "cell_type": "code",
   "execution_count": null,
   "id": "bada68b1-e1bd-440a-9f37-e324ba97c67a",
   "metadata": {},
   "outputs": [
    {
     "name": "stdout",
     "output_type": "stream",
     "text": [
      "Outcomes : {'111': 519, '000': 505}\n"
     ]
    },
    {
     "data": {
      "image/png": "[encoded data removed]",
      "text/plain": [
       "<Figure size 640x480 with 1 Axes>"
      ]
     },
     "execution_count": 19,
     "metadata": {},
     "output_type": "execute_result"
    }
   ],
   "source": [
    "# Step 4. Post-process\n",
    "results = job.result()\n",
    "counts_list = results_sampler[0].data.meas.get_counts()\n",
    "\n",
    "print(f\"Outcomes : {counts_list}\")\n",
    "plot_histogram(counts_list,title='GHZ state')"
   ]
  },
  {
   "cell_type": "code",
   "execution_count": null,
   "id": "2b2604e7-c8cc-4e3b-bf5a-0173ce7868c9",
   "metadata": {},
   "outputs": [],
   "source": []
  }
 ],
 "metadata": {
  "kernelspec": {
   "display_name": "Python 3 [QGSS]",
   "language": "python",
   "name": "python3"
  },
  "language_info": {
   "codemirror_mode": {
    "name": "ipython",
    "version": 3
   },
   "file_extension": ".py",
   "mimetype": "text/x-python",
   "name": "python",
   "nbconvert_exporter": "python",
   "pygments_lexer": "ipython3",
   "version": "3.11.9"
  }
 },
 "nbformat": 4,
 "nbformat_minor": 5
}
